{
 "cells": [
  {
   "cell_type": "markdown",
   "metadata": {
    "slideshow": {
     "slide_type": "slide"
    }
   },
   "source": [
    "# Part 3: Representing numbers on a computer.\n",
    "ECON 3127/4414/8014 Computational methods in economics  \n",
    "Week 1  \n",
    "Fedor Iskhakov  \n",
    "<img src=\"../img/lecture.png\" width=\"64px\"/>\n"
   ]
  },
  {
   "cell_type": "markdown",
   "metadata": {
    "slideshow": {
     "slide_type": "slide"
    }
   },
   "source": [
    "## Part 3: Floating point arithmetics\n",
    "\n",
    "* Because computers only work with 0 and 1 internally, all real numbers have to be represented in _binary_ format\n",
    "* This leads to many peculiar arithmetics properties of seemingly simple mathematical expressions\n",
    "* Understanding how computers work with real numbers is essential for computational economics"
   ]
  },
  {
   "cell_type": "markdown",
   "metadata": {
    "slideshow": {
     "slide_type": "slide"
    }
   },
   "source": [
    "### Simple example"
   ]
  },
  {
   "cell_type": "code",
   "execution_count": 14,
   "metadata": {
    "slideshow": {
     "slide_type": "fragment"
    }
   },
   "outputs": [
    {
     "data": {
      "text/plain": [
       "True"
      ]
     },
     "execution_count": 14,
     "metadata": {},
     "output_type": "execute_result"
    }
   ],
   "source": [
    "a = 0.1\n",
    "b = 0.1\n",
    "c = 0.2\n",
    "a+b+c == 0.4"
   ]
  },
  {
   "cell_type": "markdown",
   "metadata": {
    "slideshow": {
     "slide_type": "slide"
    }
   },
   "source": [
    "### So can we now trust the following calculation?"
   ]
  },
  {
   "cell_type": "code",
   "execution_count": 9,
   "metadata": {
    "slideshow": {
     "slide_type": "fragment"
    }
   },
   "outputs": [
    {
     "data": {
      "text/plain": [
       "'1491.7920028601754438568605110'"
      ]
     },
     "execution_count": 9,
     "metadata": {},
     "output_type": "execute_result"
    }
   ],
   "source": [
    "interest = 0.04\n",
    "compounding = 365\n",
    "investment = 1000\n",
    "t=10\n",
    "daily = 1 + interest/compounding\n",
    "sum = investment*(daily**(compounding*t))\n",
    "\n",
    "format(sum, '.25f')\n"
   ]
  },
  {
   "cell_type": "markdown",
   "metadata": {
    "slideshow": {
     "slide_type": "slide"
    }
   },
   "source": [
    "### Compare to exact calculation"
   ]
  },
  {
   "cell_type": "code",
   "execution_count": 12,
   "metadata": {
    "slideshow": {
     "slide_type": "fragment"
    }
   },
   "outputs": [
    {
     "data": {
      "text/plain": [
       "'14.7882694559'"
      ]
     },
     "execution_count": 12,
     "metadata": {},
     "output_type": "execute_result"
    }
   ],
   "source": [
    "from decimal import *\n",
    "getcontext().prec = 100 #set precision of decimal calculations\n",
    "#using floats\n",
    "interest1 = 0.04\n",
    "compounding = 365*24\n",
    "t=100 #years\n",
    "investment1 = 10e9 #one billion\n",
    "daily1 = 1 + interest1/compounding\n",
    "sum1 = investment1*(daily1**(compounding*t))\n",
    "\n",
    "#the same using precise decimal representation\n",
    "interest2 = Decimal(interest1)\n",
    "daily2 = 1 + interest2/compounding\n",
    "investment2 = Decimal(investment1)\n",
    "sum2 = investment2*(daily2**(compounding*t)) #using exact decimals\n",
    "diff=sum2-Decimal.from_float(sum1)\n",
    "format(diff, '.10f')"
   ]
  },
  {
   "cell_type": "markdown",
   "metadata": {
    "slideshow": {
     "slide_type": "slide"
    }
   },
   "source": [
    "### So, what is happening?\n",
    "- Real numbers are represented with certain precision\n",
    "- In some cases, the errors may have economic significance\n",
    "- In order to write robust code suitable for the task at hand we have to understand what we should expect and why\n",
    "\n",
    "*Numerical stability* of the code is an important property!"
   ]
  },
  {
   "cell_type": "markdown",
   "metadata": {
    "slideshow": {
     "slide_type": "slide"
    }
   },
   "source": [
    "### Number representation in decimal form\n",
    "$r$ &mdash; real number  \n",
    "$b$ &mdash; _base_ (radix)  \n",
    "$d_0,d_1,d_2,...,d_k$ &mdash; digits (from lowest to highest)\n",
    "\n",
    "$$\n",
    "r = d_k \\cdot b^k + d_{k-1} \\cdot b^{k-1} + \\dots + d_2 \\cdot b^2 + d_1 \\cdot b + d_0\n",
    "$$\n",
    "\n",
    "For example for decimals $b=10$ (0,1,..,9) we have\n",
    "\n",
    "$$\n",
    "7,631 = 7 \\cdot 1000 + 6 \\cdot 100 + 3 \\cdot 10 + 1\n",
    "$$\n",
    "\n",
    "$$\n",
    "19,048 = 1 \\cdot 10000 + 9 \\cdot 1000 + 0 \\cdot 100 + 4 \\cdot 10 + 8\n",
    "$$\n"
   ]
  },
  {
   "cell_type": "markdown",
   "metadata": {
    "slideshow": {
     "slide_type": "slide"
    }
   },
   "source": [
    "### Number representation in binary form\n",
    "Now let $b=2$, so we only have digits 0 and 1\n",
    "\n",
    "$$\n",
    "101011_{binary} = 1 \\cdot 2^5 + 0 \\cdot 2^4 + 1 \\cdot 2^3 + 0 \\cdot 2^2 + 1 \\cdot 2 + 1 = 43_{decimal}\n",
    "$$\n",
    "\n",
    "$$\n",
    "25_{decimal} = 16 + 8 + 1 = 2^4 + 2^3 + 2^0 = 11001_{binary}\n",
    "$$\n",
    "\n",
    "Other common bases are 8 and 16 (with digits $0,1,2,\\dots,9,a,b,c,d,e,f)$"
   ]
  },
  {
   "cell_type": "markdown",
   "metadata": {
    "slideshow": {
     "slide_type": "fragment"
    }
   },
   "source": [
    "$0_{binary}$ $\\rightarrow$ $1_{binary}$ $\\rightarrow$ $10_{binary}$ $\\rightarrow$ $11_{binary}$ $\\rightarrow$ ??"
   ]
  },
  {
   "cell_type": "markdown",
   "metadata": {
    "slideshow": {
     "slide_type": "subslide"
    }
   },
   "source": [
    "_Is it possible to count to 1000 using 10 fingers?_"
   ]
  },
  {
   "cell_type": "markdown",
   "metadata": {
    "slideshow": {
     "slide_type": "slide"
    }
   },
   "source": [
    "### Similar structure for fractions\n",
    "\n",
    "In base-$b$ using $k$ _fractional_ digits\n",
    "\n",
    "$$\n",
    "1.r = 1 + d_{-1} \\cdot b^{-1} + d_{-2} \\cdot b^{-2} + \\dots + d_{-k} \\cdot b^{-k}\n",
    "$$\n",
    "\n",
    "$$\n",
    "1.5627 = \\frac{15,627}{10,000} = 1 + 5 \\cdot 10^{-1} + 6 \\cdot 10^{-2} + 2 \\cdot 10^{-3} + 7 \\cdot 10^{-4}\n",
    "$$\n",
    "\n",
    "Yet, for some numbers there is no finite decimal representation\n",
    "\n",
    "$$\n",
    "\\frac{4}{3} = 1 + 3 \\cdot 10^{-1} + 3 \\cdot 10^{-2} + 3 \\cdot 10^{-3} + \\dots = 1.333\\dots\n",
    "$$"
   ]
  },
  {
   "cell_type": "markdown",
   "metadata": {
    "slideshow": {
     "slide_type": "subslide"
    }
   },
   "source": [
    "$$\n",
    "\\frac{4}{3} = 1 + \\frac{1}{3} = 1 + \\frac{10}{3} 10^{-1} = 1 + 3 \\cdot 10^{-1} + \\frac{1}{3}10^{-1}\n",
    "$$\n",
    "\n",
    "$$\n",
    "= 1.3 + \\frac{10}{3} \\cdot 10^{-2} = 1.3 + 3 \\cdot 10^{-2} + \\frac{1}{3}10^{-2}\n",
    "$$\n",
    "\n",
    "$$\n",
    "= 1.33 + \\frac{10}{3} \\cdot 10^{-3} = 1.33 + 3 \\cdot 10^{-3} + \\frac{1}{3}10^{-3} = \\dots\n",
    "$$"
   ]
  },
  {
   "cell_type": "markdown",
   "metadata": {
    "slideshow": {
     "slide_type": "slide"
    }
   },
   "source": [
    "### In binary\n",
    "$$\n",
    "0.1 =\\frac{1}{10} = \\frac{16}{10} 2^{-4} = 0.0001_b + \\frac{6}{10} 2^{-4} =\n",
    "$$\n",
    "\n",
    "$$\n",
    "0.0001_b + \\frac{12}{10} 2^{-5} = 0.00011_b + \\frac{2}{10} 2^{-5} =\n",
    "$$\n",
    "\n",
    "$$\n",
    "0.00011_b + \\frac{16}{10} 2^{-8} = 0.00011001_b + \\frac{6}{10} 2^{-8} = 1.000110011...\n",
    "$$\n",
    "\n",
    "Therefore $0.1$ can not be represented in binary exactly!"
   ]
  },
  {
   "cell_type": "markdown",
   "metadata": {
    "slideshow": {
     "slide_type": "slide"
    }
   },
   "source": [
    "### Rounding error\n",
    "\n",
    "Squeezing infinitely many real numbers into a finite number of _bits_ requires an approximate representation\n",
    "\n",
    "$p$ &mdash; number of digits in the representation of real number $r$  \n",
    "$e$ &mdash; exponent between $e_{min}$ and $e_{max}$, taking up $p_e$ bits to encode\n",
    "\n",
    "$$\n",
    "r \\approx \\pm d_0. d_1 d_2 \\dots d_p \\cdot b^e\n",
    "$$\n",
    "\n",
    "The float takes the total of $1 + p + p_e$ digits\n"
   ]
  },
  {
   "cell_type": "markdown",
   "metadata": {
    "slideshow": {
     "slide_type": "slide"
    }
   },
   "source": [
    "### Bits in float point represetnation\n",
    "<img src=\"img/bit_map.gif\" width=1100px style=\"margin: auto\">"
   ]
  },
  {
   "cell_type": "markdown",
   "metadata": {
    "slideshow": {
     "slide_type": "slide"
    }
   },
   "source": [
    "### Distribution of representable real numbers\n",
    "<img src=\"img/float_map.jpg\" width=1100px style=\"margin: auto\">"
   ]
  },
  {
   "cell_type": "markdown",
   "metadata": {
    "slideshow": {
     "slide_type": "slide"
    }
   },
   "source": [
    "### The main issues to be aware of\n",
    "1. Rounding errors $\\leftrightarrow$ loss of precision when numbers are represented in binary form \n",
    "$\\Rightarrow$ can not compare floats for equality\n",
    "2. Catastrophic cancellation $\\leftrightarrow$ potential drastic loss of precision when substracting close real numbers represented by floats $\\Rightarrow$\n",
    "innocent formulas may in fact be numerically unstable\n",
    "3. Overflow $\\leftrightarrow$ obtaining a real number that is too large to be represented as float\n",
    "4. Underflow $\\leftrightarrow$ obtaining a real number that is indistinguishable from zero\n",
    "\n",
    "_Will look at these cases in the Lab next Monday_"
   ]
  },
  {
   "cell_type": "markdown",
   "metadata": {
    "slideshow": {
     "slide_type": "slide"
    }
   },
   "source": [
    "# Thank you. Questions?"
   ]
  },
  {
   "cell_type": "markdown",
   "metadata": {
    "slideshow": {
     "slide_type": "slide"
    }
   },
   "source": [
    "## Further learning resources\n",
    "- Simple guide to Git http://rogerdudler.github.io/git-guide/\n",
    "- Comparing programming languages https://modelingguru.nasa.gov/docs/DOC-2676\n",
    "- Counting on fingers https://www.youtube.com/watch?v=UixU1oRW64Q\n",
    "- Floating point arithmetics http://www.itu.dk/~sestoft/bachelor/IEEE754_article.pdf\n"
   ]
  }
 ],
 "metadata": {
  "celltoolbar": "Slideshow",
  "kernelspec": {
   "display_name": "Python 3",
   "language": "python",
   "name": "python3"
  },
  "language_info": {
   "codemirror_mode": {
    "name": "ipython",
    "version": 3
   },
   "file_extension": ".py",
   "mimetype": "text/x-python",
   "name": "python",
   "nbconvert_exporter": "python",
   "pygments_lexer": "ipython3",
   "version": "3.7.3"
  }
 },
 "nbformat": 4,
 "nbformat_minor": 2
}
