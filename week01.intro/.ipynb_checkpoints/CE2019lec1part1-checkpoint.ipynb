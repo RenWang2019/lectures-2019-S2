{
 "cells": [
  {
   "cell_type": "markdown",
   "metadata": {
    "slideshow": {
     "slide_type": "slide"
    }
   },
   "source": [
    "# Course introduction. Housekeeping.\n",
    "ECON 3127/4414/8014 Computational methods in economics  \n",
    "Week 1  \n",
    "Fedor Iskhakov  \n",
    "<img src=\"../img/lecture.png\" width=\"64px\"/>\n"
   ]
  },
  {
   "cell_type": "markdown",
   "metadata": {
    "slideshow": {
     "slide_type": "slide"
    }
   },
   "source": [
    "## Part 1: Course introduction and housekeeping\n",
    "ECON 3127/4414/8014\n",
    "\n",
    "This course will teach the basics of _programming and computational skills_ for economic analysis and enable the students to take _numerical approach to familiar mathematical problems_. Students will learn to graphically represent familiar ideas such as supply and demand curves, equilibrium prices and consumer choice. They will explore how these choices and equilibria change with shifts in policy instruments, preferences and technologies. In the process they will learn to use common computational solution methods, such as root finding and optimization. Students will also learn how to obtain, manipulate and represent data, using tools such as scatterplots and histograms.\n"
   ]
  },
  {
   "cell_type": "markdown",
   "metadata": {
    "slideshow": {
     "slide_type": "slide"
    }
   },
   "source": [
    "### What is computational economics?\n",
    "\n",
    "Use of computer to analyse (solve + simulate) complicated economic models that do not allow for analytical solution\n",
    "\n",
    "Useful because the models are becoming more realistic and thus complicated\n",
    "\n",
    "- Macroeconomics: heterogeneous agents, overlapping generations\n",
    "- Microeconomics: dynamic games\n",
    "- Structural econometrics: estimating complex models with micro-data\n",
    "- Advanced econometrics: computationally intensive methods\n"
   ]
  },
  {
   "cell_type": "markdown",
   "metadata": {
    "slideshow": {
     "slide_type": "slide"
    }
   },
   "source": [
    "### You will learn\n",
    "1. Code up a given economics model and numerically solve it\n",
    "    - basic programming skills\n",
    "    - how to better design and write code\n",
    "    - how to be more efficient in programming\n",
    "2. Implement familiar mathematical methods on a computer\n",
    "3. Study model behavior for economic analysis\n",
    "    - analyse what happens with predictions when parameters change\n",
    "4. Manipulate and visualize economic data\n",
    "    - both simulated from models and observed"
   ]
  },
  {
   "cell_type": "markdown",
   "metadata": {
    "slideshow": {
     "slide_type": "slide"
    }
   },
   "source": [
    "### Lecturer: Dr. Fedor Iskhakov\n",
    "\n",
    "Associate professor, RSE\n",
    "\n",
    "PhD from University of Oslo, Norway, 2009\n",
    "\n",
    "Research interests: applied econometrics, i.e. structural estimation of dynamic models\n",
    "\n",
    "Email: fedor.iskhakov@anu.edu.au\n",
    "\n",
    "Office hours: by appointment at 1018 HW Arndt building\n",
    "\n",
    "More info: [fedor.iskh.me](http://fedor.iskh.me)"
   ]
  },
  {
   "cell_type": "markdown",
   "metadata": {
    "slideshow": {
     "slide_type": "slide"
    }
   },
   "source": [
    "### Tutor: Simon Mishricky\n",
    "\n",
    "Grad student, RSE\n",
    "\n",
    "Research interests: computational macro\n",
    "\n",
    "Email: simon.mishricky@gmail.com\n",
    "\n",
    "Office hours: by appointment"
   ]
  },
  {
   "cell_type": "markdown",
   "metadata": {
    "slideshow": {
     "slide_type": "slide"
    }
   },
   "source": [
    "### Student introductions (10-15 min)\n",
    "1. Your name\n",
    "2. Your program (undergrad/honours/master/PhD) and year\n",
    "3. Macro, micro or metrics (theoretical/empirical)?\n",
    "4. Your prior programming experience\n",
    "    - Language(s)\n",
    "    - Purpose for learning more\n",
    "    - Tools you use\n",
    "5. Your expectations from this course\n",
    "    - How are you going to use the learned skills"
   ]
  },
  {
   "cell_type": "markdown",
   "metadata": {
    "slideshow": {
     "slide_type": "slide"
    }
   },
   "source": [
    "### Schedule\n",
    "\n",
    "**Lectures:** Monday 9-11 am (which is 9:05 - 10:55, with 5-10 min break)\n",
    "\n",
    "**Labs:** Friday 1-3 pm\n",
    "\n",
    "Each **week N** (N>1) is one lecture + one lab on Friday *of the same week*\n",
    "\n",
    "Let's talk about your time tabling clashes."
   ]
  },
  {
   "cell_type": "markdown",
   "metadata": {
    "slideshow": {
     "slide_type": "slide"
    }
   },
   "source": [
    "### What lectures and lab tutorials contain\n",
    "\n",
    "- Material is organized by technical topics, but each time will be illustrated with various **economic problems**\n",
    "- Lectures will provide the theoretical background and some small executable examples\n",
    "- Labs will give _hands on_ experience of how the studied methods help in particular economic applications"
   ]
  },
  {
   "cell_type": "markdown",
   "metadata": {
    "slideshow": {
     "slide_type": "slide"
    }
   },
   "source": [
    "### Book(s)\n",
    "\n",
    "$\\downarrow$ **Computer science**\n",
    "\n",
    "- Introduction to Python for Econometrics, Statistics and Data Analysis \n",
    "- Lectures in Quantitative Economics (QuantEcon.org)\n",
    "- Dynamic Economics. Quantitative Methods and Applications\n",
    "\n",
    "$\\uparrow$ **Economics**\n",
    "\n",
    "There will be additional materials referenced for each week.  \n",
    "_See Wattle for exact references._"
   ]
  },
  {
   "cell_type": "markdown",
   "metadata": {
    "slideshow": {
     "slide_type": "slide"
    }
   },
   "source": [
    "### Assessment 1: Weekly problem sets \n",
    "\n",
    "Small exercises in the end of each lecture to give you an opportunity to try implementation of the material from the lecture. Intended to be solved individually or in groups during the week. Will be discussed in the lab that follows the lecture, and serve as building blocks in the larger applications.\n",
    "\n",
    "Additional hard excercises (with $\\star$) for ECON 4414/8014\n",
    "\n",
    "**Optional (no contribution to final grade), yet very useful training**"
   ]
  },
  {
   "cell_type": "markdown",
   "metadata": {
    "slideshow": {
     "slide_type": "slide"
    }
   },
   "source": [
    "### Assessment 2: Midterm assignment\n",
    "\n",
    "Midterm assignments are coding tasks of implementing simple economic models to be performed in groups of 2 people (+ one group of 3 if needed). The assignments will be graded for correct implementation of the economic model, but also for code style and proper use of version control tools. Several models will be offered for implementation, each accompanied with a set of tasks to perform. All models will be assigned to groups on the first come first served (FIFO) bases before any model can be assigned another time. Grades will be partially based on within group feedback. Part of the grade will be based on short group presentation of the complete assignment in the following lab class.\n",
    "\n",
    "**40% of the final grade**\n"
   ]
  },
  {
   "cell_type": "markdown",
   "metadata": {
    "slideshow": {
     "slide_type": "slide"
    }
   },
   "source": [
    "### Assessment 3: Final exam\n",
    "\n",
    "Open book exam in the computer lab, you can use your computer as well.\n",
    "The final exam will contain several short answer questions (knowing the facts), several middle size questions (find a bug in the code) and several small individual coding tasks (write your code).\n",
    "\n",
    "Last year: 40% P\n",
    "\n",
    "Why is it hard: time constraint (3 hours)\n",
    "\n",
    "\n",
    "**60% of the final grade**\n"
   ]
  },
  {
   "cell_type": "markdown",
   "metadata": {
    "slideshow": {
     "slide_type": "slide"
    }
   },
   "source": [
    "### Communication with the lecturer\n",
    "\n",
    "1. Announcements on [Wattle course page](https://wattlecourses.anu.edu.au/course/view.php?id=24693)\n",
    "2. Email [fedor.iskhakov@anu.edu.au](mailto: fedor.iskhakov@anu.edu.au)\n",
    "3. Office hours by appointment, office 1018 in HW Arndt building\n"
   ]
  },
  {
   "cell_type": "markdown",
   "metadata": {
    "slideshow": {
     "slide_type": "slide"
    }
   },
   "source": [
    "### Version control with Git\n",
    "\n",
    "We will use **version control** software Git and online coders community GitHub\n",
    "\n",
    "- Using version control is essential for efficient coding work\n",
    "- Having registration at GitHub is essential for computational economist\n",
    "\n",
    "\n",
    "1. Learning Git is part of the course, will be tested in the exam/assignments\n",
    "2. Registration at GitHub is optional and not essential for passing the course, although will make the workflow a lot smoother\n",
    "\n",
    "The week 1 Lab starts with Git and GitHub\n"
   ]
  },
  {
   "cell_type": "markdown",
   "metadata": {
    "slideshow": {
     "slide_type": "slide"
    }
   },
   "source": [
    "# Lab1: Git and GitHub\n",
    "\n",
    "<img src=\"../img/lab.png\" width=\"64px\"/>\n",
    "\n",
    "1. Git and it graphical user interfaces (GUI)\n",
    "1. GitHub https://github.com/fediskhakov\n",
    "1. GitHub classroom \n",
    "1. Jupyter Notebook\n"
   ]
  },
  {
   "cell_type": "markdown",
   "metadata": {
    "slideshow": {
     "slide_type": "slide"
    }
   },
   "source": [
    "### Typical single user Git workflow\n",
    "\n",
    "1. Create/Clone repository\n",
    "1. Write/edit (text) files **CODING**\n",
    "1. Observe diffs\n",
    "1. Stage and commit\n",
    "1. Back to step 2\n",
    "\n",
    "\n",
    "- Occasionaly dig back in history of diffs to figure smth out\n",
    "- Checkout previous version of files\n",
    "- Branching for experimental features"
   ]
  },
  {
   "cell_type": "markdown",
   "metadata": {
    "slideshow": {
     "slide_type": "slide"
    }
   },
   "source": [
    "### Typical multiple coauthor Git workflow\n",
    "\n",
    "1. Create/Clone repository _for each co-author_\n",
    "1. Link repos by specifying remotes\n",
    "1. Fetch latest changes by others, observe diffs\n",
    "1. Merge their work into your master branch\n",
    "1. Write/edit (text) files **CODING**\n",
    "1. Stage and commit\n",
    "1. Back to step 3\n",
    "\n",
    "\n",
    "- Branching for experimental features"
   ]
  },
  {
   "cell_type": "markdown",
   "metadata": {
    "slideshow": {
     "slide_type": "slide"
    }
   },
   "source": [
    "<img src=\"img/github.png\" width=\"256px\"/>\n",
    "\n",
    "1. Register user account   \n",
    "    - _Up to you if you want to use your real name_\n",
    "    - Apply for Student Pack https://help.github.com/articles/applying-for-a-student-developer-pack/\n",
    "2. Link local repository to GitHub\n",
    "3. Clone the lectures repo\n",
    "https://github.com/ECON-3127-4414-8014/lectures-2019-S2"
   ]
  },
  {
   "cell_type": "markdown",
   "metadata": {},
   "source": [
    "<img src=\"img/github.png\" width=\"256px\"/>\n",
    "\n",
    "We will GitHub Classroom for working on the assignments\n",
    "\n",
    "1. Join ECON3127/4414/8014 classroom and fetch the test assignment  \n",
    "https://classroom.github.com/a/YezDf3tH\n",
    "2. Clone the assignment repo\n",
    "3. Complete the assignment and commit\n"
   ]
  },
  {
   "cell_type": "markdown",
   "metadata": {
    "slideshow": {
     "slide_type": "slide"
    }
   },
   "source": [
    "### Jupyter Notebooks\n",
    "\n",
    "- We will use Juputer Notebook for exploring and running the code\n",
    "- Great way to present your coding work\n",
    "- Assignments and the exam will be done in notebooks\n",
    "- Not so great for libraries, modules, all code that would be reused many times\n",
    "- Not so great for tracking updates in\n"
   ]
  },
  {
   "cell_type": "markdown",
   "metadata": {
    "slideshow": {
     "slide_type": "slide"
    }
   },
   "source": [
    "## Part 2: Introduction to Python\n",
    "\n",
    "<img src=\"img/PythonLogo.jpg\" width=\"512px\"/>\n",
    "\n",
    "- General–purpose programming language capable of performing _many different tasks_ including scientific computing\n",
    "- Open source (free!), development coordinated through the [Python Software Foundation](https://www.python.org/psf/)\n",
    "- Experienced rapid adoption in the last decade, and is now one of the most popular programming languages\n",
    "\n"
   ]
  },
  {
   "cell_type": "markdown",
   "metadata": {
    "slideshow": {
     "slide_type": "slide"
    }
   },
   "source": [
    "<img src=\"img/python_projections.png\" width=700px style=\"margin: auto\">\n",
    "\n",
    "<div style=\"font-size:10px\">Source: <a href=\"https://stackoverflow.blog/2017/09/06/incredible-growth-python/\">StackOverflow</a></div>\n"
   ]
  },
  {
   "cell_type": "markdown",
   "metadata": {
    "slideshow": {
     "slide_type": "slide"
    }
   },
   "source": [
    "### Scope of Python\n",
    "\n",
    "<img src=\"img/python_usage.png\" width=900px style=\"margin: auto\">\n",
    "\n",
    "<div style=\"font-size:10px\">Source: <a href=\"https://www.quora.com/What-are-the-places-where-Python-is-used\">Quora</a></div>\n",
    "\n"
   ]
  },
  {
   "cell_type": "markdown",
   "metadata": {
    "slideshow": {
     "slide_type": "slide"
    }
   },
   "source": [
    "### Low and high level programming languages\n",
    "\n",
    "1. Low level languages (Assembler, FORTRAN, C, C++)\n",
    "    - Very fast\n",
    "    - Very verbose\n",
    "2. High level languages (Matlab, R, **Python**)\n",
    "    - Slower (although not for all tasks and circumstances)\n",
    "    - A lot more concise\n",
    "    - Versatile with (usually) many libraries\n",
    "\n",
    "What to choose?"
   ]
  },
  {
   "cell_type": "markdown",
   "metadata": {
    "slideshow": {
     "slide_type": "slide"
    }
   },
   "source": [
    "### Trade-off\n",
    "\n",
    "<img src=\"img/tradeoffs.png\" width=1100px style=\"margin: auto\">\n"
   ]
  },
  {
   "cell_type": "markdown",
   "metadata": {
    "slideshow": {
     "slide_type": "slide"
    }
   },
   "source": [
    "<img src=\"img/language_verbosity.png\" width=740px style=\"margin: auto\">\n",
    "\n",
    "<div style=\"font-size:10px\">Source: <a href=\"http://blog.revolutionanalytics.com/2012/11/which-programming-language-is-the-most-concise.html\">blog.revolutionanalytics.com</a></div>\n",
    "\n"
   ]
  },
  {
   "cell_type": "markdown",
   "metadata": {
    "slideshow": {
     "slide_type": "slide"
    }
   },
   "source": [
    "### Speed comparisons\n",
    "\n",
    "Aruoba, S. Borağan & Fernández-Villaverde, Jesús, 2015. \"A comparison of programming languages in macroeconomics,\" Journal of Economic Dynamics and Control, Vol. 58(C), pages 265-273.  \n",
    "http://econweb.umd.edu/~webspace/aruoba/research/paper24/Aruoba_FernandezVillaverde_Programming\n",
    "\n",
    "Aruoba, S. Borağan & Fernández-Villaverde, Jesús, 2015. \"A Comparison of Programming Languages in Economics: An Update\"  \n",
    "https://www.sas.upenn.edu/~jesusfv/Update_March_23_2018.pdf\n",
    "\n",
    "Jules Kouatchou, NASA. \"Basic Comparison of Python, Julia, Matlab, IDL and Java (2018 Edition)\"  \n",
    "https://modelingguru.nasa.gov/docs/DOC-2676\n"
   ]
  },
  {
   "cell_type": "markdown",
   "metadata": {
    "slideshow": {
     "slide_type": "slide"
    }
   },
   "source": [
    "### A Comparison of Programming Languages in Economics: An Update\n",
    "\n",
    "<img src=\"img/runtime1.png\" width=700px style=\"margin: auto\">\n",
    "<img src=\"img/runtime2.png\" width=730px style=\"margin: auto\">\n",
    "\n"
   ]
  },
  {
   "cell_type": "markdown",
   "metadata": {
    "slideshow": {
     "slide_type": "slide"
    }
   },
   "source": [
    "### Objective function\n",
    "\n",
    "Development and maintenance time $+$ (run time $\\times$ number of runs) $\\longrightarrow$ MIN\n",
    "\n",
    "**Minimizing one component only is suboptimal!**  \n",
    "(premature optimization)\n",
    "\n",
    "* High level language (Python) for overall structure and appearance\n",
    "* Low level language (C or C++) for computational bottlenecks\n",
    "* Necessary to also think about\n",
    "    - Vectorization\n",
    "    - Parallelization (scalability)"
   ]
  },
  {
   "cell_type": "markdown",
   "metadata": {
    "slideshow": {
     "slide_type": "slide"
    }
   },
   "source": [
    "### Why Python for Computational Economics?\n",
    "\n",
    "- Versatile high level programming language\n",
    "- High quality scientific libraries (NumPy, SciPy, Pandas, Matplotlib)\n",
    "- Parallelization and just-intime (JIT) compilation\n",
    "- Modern machine learning libraries (Tensorflow API, Scikit Learn)\n",
    "- Vast array of free libraries in other fields (web, networks, natural language processing, etc.)\n",
    "- Positive spillovers from popularity (Stack Overflow)"
   ]
  },
  {
   "cell_type": "markdown",
   "metadata": {
    "slideshow": {
     "slide_type": "slide"
    }
   },
   "source": [
    "# Thank you. Questions?"
   ]
  },
  {
   "cell_type": "markdown",
   "metadata": {
    "slideshow": {
     "slide_type": "slide"
    }
   },
   "source": [
    "## Further learning resources\n",
    "\n",
    "- Simple guide to Git http://rogerdudler.github.io/git-guide/\n",
    "- Further on version control and Git https://git-scm.com/doc\n",
    "- More on GitHub https://guides.github.com/\n",
    "- Tutorial in Jupyter Notebook https://medium.com/codingthesmartway-com-blog/getting-started-with-jupyter-notebook-for-python-4e7082bd5d46\n",
    "- Markdown syntax cheatsheet https://github.com/adam-p/markdown-here/wiki/Markdown-Cheatsheet\n",
    "- Comparing programming languages https://modelingguru.nasa.gov/docs/DOC-2676\n",
    "\n",
    " \n"
   ]
  }
 ],
 "metadata": {
  "celltoolbar": "Slideshow",
  "kernelspec": {
   "display_name": "Python 3",
   "language": "python",
   "name": "python3"
  },
  "language_info": {
   "codemirror_mode": {
    "name": "ipython",
    "version": 3
   },
   "file_extension": ".py",
   "mimetype": "text/x-python",
   "name": "python",
   "nbconvert_exporter": "python",
   "pygments_lexer": "ipython3",
   "version": "3.7.3"
  }
 },
 "nbformat": 4,
 "nbformat_minor": 2
}
